{
 "cells": [
  {
   "cell_type": "markdown",
   "id": "989fc30c-1da0-4034-81bf-c7053eb03fcc",
   "metadata": {},
   "source": [
    "installons le packages necessaire "
   ]
  },
  {
   "cell_type": "code",
   "execution_count": 1,
   "id": "f79a05bc-777d-4590-8c88-f75923aa7948",
   "metadata": {},
   "outputs": [
    {
     "name": "stdout",
     "output_type": "stream",
     "text": [
      "Requirement already satisfied: nltk in c:\\users\\toshiba\\anaconda3\\lib\\site-packages (3.7)\n",
      "Requirement already satisfied: streamlit in c:\\users\\toshiba\\anaconda3\\lib\\site-packages (1.25.0)\n",
      "Requirement already satisfied: click in c:\\users\\toshiba\\anaconda3\\lib\\site-packages (from nltk) (8.0.4)\n",
      "Requirement already satisfied: joblib in c:\\users\\toshiba\\anaconda3\\lib\\site-packages (from nltk) (1.1.1)\n",
      "Requirement already satisfied: regex>=2021.8.3 in c:\\users\\toshiba\\anaconda3\\lib\\site-packages (from nltk) (2022.7.9)\n",
      "Requirement already satisfied: tqdm in c:\\users\\toshiba\\anaconda3\\lib\\site-packages (from nltk) (4.64.1)\n",
      "Requirement already satisfied: python-dateutil<3,>=2.7.3 in c:\\users\\toshiba\\anaconda3\\lib\\site-packages (from streamlit) (2.8.1)\n",
      "Requirement already satisfied: validators<1,>=0.2 in c:\\users\\toshiba\\anaconda3\\lib\\site-packages (from streamlit) (0.20.0)\n",
      "Requirement already satisfied: altair<6,>=4.0 in c:\\users\\toshiba\\anaconda3\\lib\\site-packages (from streamlit) (5.0.1)\n",
      "Requirement already satisfied: requests<3,>=2.18 in c:\\users\\toshiba\\anaconda3\\lib\\site-packages (from streamlit) (2.23.0)\n",
      "Requirement already satisfied: pympler<2,>=0.9 in c:\\users\\toshiba\\anaconda3\\lib\\site-packages (from streamlit) (1.0.1)\n",
      "Requirement already satisfied: tzlocal<5,>=1.1 in c:\\users\\toshiba\\anaconda3\\lib\\site-packages (from streamlit) (4.3.1)\n",
      "Requirement already satisfied: rich<14,>=10.14.0 in c:\\users\\toshiba\\anaconda3\\lib\\site-packages (from streamlit) (13.4.2)\n",
      "Requirement already satisfied: tornado<7,>=6.0.3 in c:\\users\\toshiba\\anaconda3\\lib\\site-packages (from streamlit) (6.1)\n",
      "Requirement already satisfied: pyarrow>=6.0 in c:\\users\\toshiba\\anaconda3\\lib\\site-packages (from streamlit) (12.0.1)\n",
      "Requirement already satisfied: blinker<2,>=1.0.0 in c:\\users\\toshiba\\anaconda3\\lib\\site-packages (from streamlit) (1.6.2)\n",
      "Requirement already satisfied: importlib-metadata<7,>=1.4 in c:\\users\\toshiba\\anaconda3\\lib\\site-packages (from streamlit) (4.11.3)\n",
      "Requirement already satisfied: protobuf<5,>=3.20 in c:\\users\\toshiba\\anaconda3\\lib\\site-packages (from streamlit) (4.23.4)\n",
      "Requirement already satisfied: tenacity<9,>=8.1.0 in c:\\users\\toshiba\\anaconda3\\lib\\site-packages (from streamlit) (8.2.2)\n",
      "Requirement already satisfied: numpy<2,>=1.19.3 in c:\\users\\toshiba\\anaconda3\\lib\\site-packages (from streamlit) (1.23.5)\n",
      "Requirement already satisfied: cachetools<6,>=4.0 in c:\\users\\toshiba\\anaconda3\\lib\\site-packages (from streamlit) (5.3.1)\n",
      "Requirement already satisfied: pillow<10,>=7.1.0 in c:\\users\\toshiba\\anaconda3\\lib\\site-packages (from streamlit) (9.4.0)\n",
      "Requirement already satisfied: pandas<3,>=1.3.0 in c:\\users\\toshiba\\anaconda3\\lib\\site-packages (from streamlit) (1.5.3)\n",
      "Requirement already satisfied: packaging<24,>=16.8 in c:\\users\\toshiba\\anaconda3\\lib\\site-packages (from streamlit) (22.0)\n",
      "Requirement already satisfied: gitpython!=3.1.19,<4,>=3.0.7 in c:\\users\\toshiba\\anaconda3\\lib\\site-packages (from streamlit) (3.1.32)\n",
      "Requirement already satisfied: typing-extensions<5,>=4.1.0 in c:\\users\\toshiba\\anaconda3\\lib\\site-packages (from streamlit) (4.4.0)\n",
      "Requirement already satisfied: toml<2,>=0.10.1 in c:\\users\\toshiba\\anaconda3\\lib\\site-packages (from streamlit) (0.10.2)\n",
      "Requirement already satisfied: pydeck<1,>=0.8 in c:\\users\\toshiba\\anaconda3\\lib\\site-packages (from streamlit) (0.8.0)\n",
      "Requirement already satisfied: watchdog>=2.1.5 in c:\\users\\toshiba\\anaconda3\\lib\\site-packages (from streamlit) (2.1.6)\n",
      "Requirement already satisfied: toolz in c:\\users\\toshiba\\anaconda3\\lib\\site-packages (from altair<6,>=4.0->streamlit) (0.12.0)\n",
      "Requirement already satisfied: jinja2 in c:\\users\\toshiba\\anaconda3\\lib\\site-packages (from altair<6,>=4.0->streamlit) (3.1.2)\n",
      "Requirement already satisfied: jsonschema>=3.0 in c:\\users\\toshiba\\anaconda3\\lib\\site-packages (from altair<6,>=4.0->streamlit) (4.17.3)\n",
      "Requirement already satisfied: colorama in c:\\users\\toshiba\\anaconda3\\lib\\site-packages (from click->nltk) (0.4.6)\n",
      "Requirement already satisfied: gitdb<5,>=4.0.1 in c:\\users\\toshiba\\anaconda3\\lib\\site-packages (from gitpython!=3.1.19,<4,>=3.0.7->streamlit) (4.0.10)\n",
      "Requirement already satisfied: zipp>=0.5 in c:\\users\\toshiba\\anaconda3\\lib\\site-packages (from importlib-metadata<7,>=1.4->streamlit) (3.11.0)\n",
      "Requirement already satisfied: pytz>=2020.1 in c:\\users\\toshiba\\anaconda3\\lib\\site-packages (from pandas<3,>=1.3.0->streamlit) (2022.7)\n",
      "Requirement already satisfied: six>=1.5 in c:\\users\\toshiba\\anaconda3\\lib\\site-packages (from python-dateutil<3,>=2.7.3->streamlit) (1.16.0)\n",
      "Requirement already satisfied: idna<3,>=2.5 in c:\\users\\toshiba\\anaconda3\\lib\\site-packages (from requests<3,>=2.18->streamlit) (2.10)\n",
      "Requirement already satisfied: urllib3!=1.25.0,!=1.25.1,<1.26,>=1.21.1 in c:\\users\\toshiba\\anaconda3\\lib\\site-packages (from requests<3,>=2.18->streamlit) (1.25.11)\n",
      "Requirement already satisfied: chardet<4,>=3.0.2 in c:\\users\\toshiba\\anaconda3\\lib\\site-packages (from requests<3,>=2.18->streamlit) (3.0.4)\n",
      "Requirement already satisfied: certifi>=2017.4.17 in c:\\users\\toshiba\\anaconda3\\lib\\site-packages (from requests<3,>=2.18->streamlit) (2023.7.22)\n",
      "Requirement already satisfied: pygments<3.0.0,>=2.13.0 in c:\\users\\toshiba\\anaconda3\\lib\\site-packages (from rich<14,>=10.14.0->streamlit) (2.15.1)\n",
      "Requirement already satisfied: markdown-it-py>=2.2.0 in c:\\users\\toshiba\\anaconda3\\lib\\site-packages (from rich<14,>=10.14.0->streamlit) (3.0.0)\n",
      "Requirement already satisfied: tzdata in c:\\users\\toshiba\\anaconda3\\lib\\site-packages (from tzlocal<5,>=1.1->streamlit) (2023.3)\n",
      "Requirement already satisfied: pytz-deprecation-shim in c:\\users\\toshiba\\anaconda3\\lib\\site-packages (from tzlocal<5,>=1.1->streamlit) (0.1.0.post0)\n",
      "Requirement already satisfied: decorator>=3.4.0 in c:\\users\\toshiba\\anaconda3\\lib\\site-packages (from validators<1,>=0.2->streamlit) (5.1.1)\n",
      "Requirement already satisfied: smmap<6,>=3.0.1 in c:\\users\\toshiba\\anaconda3\\lib\\site-packages (from gitdb<5,>=4.0.1->gitpython!=3.1.19,<4,>=3.0.7->streamlit) (5.0.0)\n",
      "Requirement already satisfied: MarkupSafe>=2.0 in c:\\users\\toshiba\\anaconda3\\lib\\site-packages (from jinja2->altair<6,>=4.0->streamlit) (2.1.1)\n",
      "Requirement already satisfied: pyrsistent!=0.17.0,!=0.17.1,!=0.17.2,>=0.14.0 in c:\\users\\toshiba\\anaconda3\\lib\\site-packages (from jsonschema>=3.0->altair<6,>=4.0->streamlit) (0.18.0)\n",
      "Requirement already satisfied: attrs>=17.4.0 in c:\\users\\toshiba\\anaconda3\\lib\\site-packages (from jsonschema>=3.0->altair<6,>=4.0->streamlit) (22.1.0)\n",
      "Requirement already satisfied: mdurl~=0.1 in c:\\users\\toshiba\\anaconda3\\lib\\site-packages (from markdown-it-py>=2.2.0->rich<14,>=10.14.0->streamlit) (0.1.2)\n",
      "Note: you may need to restart the kernel to use updated packages.\n"
     ]
    },
    {
     "name": "stderr",
     "output_type": "stream",
     "text": [
      "WARNING: Ignoring invalid distribution -cipy (c:\\users\\toshiba\\anaconda3\\lib\\site-packages)\n",
      "WARNING: Ignoring invalid distribution -cipy (c:\\users\\toshiba\\anaconda3\\lib\\site-packages)\n",
      "WARNING: Ignoring invalid distribution -cipy (c:\\users\\toshiba\\anaconda3\\lib\\site-packages)\n",
      "WARNING: Ignoring invalid distribution -cipy (c:\\users\\toshiba\\anaconda3\\lib\\site-packages)\n",
      "WARNING: Ignoring invalid distribution -cipy (c:\\users\\toshiba\\anaconda3\\lib\\site-packages)\n",
      "WARNING: Ignoring invalid distribution -cipy (c:\\users\\toshiba\\anaconda3\\lib\\site-packages)\n"
     ]
    }
   ],
   "source": [
    "pip install nltk streamlit\n"
   ]
  },
  {
   "cell_type": "markdown",
   "id": "e191f1e5-aeb5-4906-83d8-40b68ec6b1e9",
   "metadata": {},
   "source": [
    "installons les packages :"
   ]
  },
  {
   "cell_type": "code",
   "execution_count": 2,
   "id": "c8b29d08-474a-46af-88f1-01ec2799401c",
   "metadata": {},
   "outputs": [
    {
     "name": "stderr",
     "output_type": "stream",
     "text": [
      "[nltk_data] Downloading package punkt to\n",
      "[nltk_data]     C:\\Users\\toshiba\\AppData\\Roaming\\nltk_data...\n",
      "[nltk_data]   Package punkt is already up-to-date!\n",
      "[nltk_data] Downloading package averaged_perceptron_tagger to\n",
      "[nltk_data]     C:\\Users\\toshiba\\AppData\\Roaming\\nltk_data...\n",
      "[nltk_data]   Package averaged_perceptron_tagger is already up-to-\n",
      "[nltk_data]       date!\n"
     ]
    }
   ],
   "source": [
    "import nltk\n",
    "nltk.download('punkt')\n",
    "nltk.download('averaged_perceptron_tagger')\n",
    "from nltk.tokenize import word_tokenize, sent_tokenize\n",
    "from nltk.corpus import stopwords\n",
    "from nltk.stem import WordNetLemmatizer\n",
    "import string\n",
    "import streamlit as st"
   ]
  },
  {
   "cell_type": "markdown",
   "id": "69b0da30-ce2d-4978-9538-3342793d9bdc",
   "metadata": {},
   "source": [
    "Nous avons fait le choix de travailler avec le livre moby dick qu on a telecharger en fichier txt\n",
    "sur gutenberg.org"
   ]
  },
  {
   "cell_type": "code",
   "execution_count": 8,
   "id": "3296083b-c25a-4979-8954-9d52373a27fd",
   "metadata": {},
   "outputs": [],
   "source": [
    "with open(r'C:\\Users\\toshiba\\Desktop\\datascience\\chatbox\\mobydick.txt', 'r',  encoding='utf-8') as f:\n",
    "        data = f.read().replace('\\n', ' ')\n"
   ]
  },
  {
   "cell_type": "code",
   "execution_count": 9,
   "id": "85edc4a0-fcea-442b-bdd1-36b46c3765ae",
   "metadata": {},
   "outputs": [],
   "source": [
    "sentences = sent_tokenize(data)\n"
   ]
  },
  {
   "cell_type": "markdown",
   "id": "fd70cf28-6421-449f-9cb2-a16edb793528",
   "metadata": {},
   "source": [
    "traitons le fichier text:"
   ]
  },
  {
   "cell_type": "code",
   "execution_count": 10,
   "id": "1c583849-8bbe-4a92-8465-8e89c326fd9d",
   "metadata": {},
   "outputs": [],
   "source": [
    "def preprocess(sentence):\n",
    "    \n",
    "    words = word_tokenize(sentence)\n",
    "    \n",
    "    words = [word.lower() for word in words if word.lower() not in stopwords.words('english') and word not in string.punctuation]\n",
    "    \n",
    "    lemmatizer = WordNetLemmatizer()\n",
    "    words = [lemmatizer.lemmatize(word) for word in words]\n",
    "    return words     \n"
   ]
  },
  {
   "cell_type": "code",
   "execution_count": null,
   "id": "c4bbaf66-93fc-44fc-81eb-b0f2deeada04",
   "metadata": {},
   "outputs": [],
   "source": []
  },
  {
   "cell_type": "code",
   "execution_count": null,
   "id": "4e792d4f-8b70-4f72-ba1b-184fc07a1e7c",
   "metadata": {},
   "outputs": [],
   "source": [
    "importants certains minipackage indispensables "
   ]
  },
  {
   "cell_type": "code",
   "execution_count": 12,
   "id": "810a35a0-da60-462e-863f-373f2914c060",
   "metadata": {},
   "outputs": [
    {
     "name": "stderr",
     "output_type": "stream",
     "text": [
      "[nltk_data] Downloading package stopwords to\n",
      "[nltk_data]     C:\\Users\\toshiba\\AppData\\Roaming\\nltk_data...\n",
      "[nltk_data]   Unzipping corpora\\stopwords.zip.\n"
     ]
    },
    {
     "data": {
      "text/plain": [
       "True"
      ]
     },
     "execution_count": 12,
     "metadata": {},
     "output_type": "execute_result"
    }
   ],
   "source": [
    "nltk.download('stopwords')\n",
    "nltk.download('stopwords')\n"
   ]
  },
  {
   "cell_type": "code",
   "execution_count": 14,
   "id": "5fd73d1d-3910-4db1-b789-54aa8034a796",
   "metadata": {},
   "outputs": [
    {
     "name": "stderr",
     "output_type": "stream",
     "text": [
      "[nltk_data] Downloading package wordnet to\n",
      "[nltk_data]     C:\\Users\\toshiba\\AppData\\Roaming\\nltk_data...\n"
     ]
    },
    {
     "data": {
      "text/plain": [
       "True"
      ]
     },
     "execution_count": 14,
     "metadata": {},
     "output_type": "execute_result"
    }
   ],
   "source": [
    "nltk.download('wordnet')\n"
   ]
  },
  {
   "cell_type": "code",
   "execution_count": 18,
   "id": "09328d9e-d763-46ae-b167-af27b8f45dfb",
   "metadata": {},
   "outputs": [
    {
     "name": "stderr",
     "output_type": "stream",
     "text": [
      "[nltk_data] Downloading package omw-1.4 to\n",
      "[nltk_data]     C:\\Users\\toshiba\\AppData\\Roaming\\nltk_data...\n"
     ]
    },
    {
     "data": {
      "text/plain": [
       "True"
      ]
     },
     "execution_count": 18,
     "metadata": {},
     "output_type": "execute_result"
    }
   ],
   "source": [
    "nltk.download('omw-1.4')\n"
   ]
  },
  {
   "cell_type": "code",
   "execution_count": 19,
   "id": "ef4bbf2a-9b16-4b60-a554-37b1ed6df623",
   "metadata": {},
   "outputs": [],
   "source": [
    "corpus = [preprocess(sentence) for sentence in sentences]\n"
   ]
  },
  {
   "cell_type": "code",
   "execution_count": 20,
   "id": "06e7e3a1-13e5-42b4-b226-32effd4957d1",
   "metadata": {},
   "outputs": [],
   "source": [
    "def get_most_relevant_sentence(query):\n",
    "    query = preprocess(query)\n",
    "    max_similarity = 0\n",
    "    most_relevant_sentence = \"\"\n",
    "    for sentence in corpus:\n",
    "        similarity = len(set(query).intersection(sentence)) / float(len(set(query).union(sentence)))\n",
    "        if similarity > max_similarity:\n",
    "            max_similarity = similarity\n",
    "            most_relevant_sentence = \" \".join(sentence)\n",
    "    return most_relevant_sentence"
   ]
  },
  {
   "cell_type": "code",
   "execution_count": null,
   "id": "2b59c6f0-1281-4c67-90c3-edeba3bae7d1",
   "metadata": {},
   "outputs": [],
   "source": []
  },
  {
   "cell_type": "markdown",
   "id": "8a6473ee-bcb4-46fa-8045-5983162d1ccc",
   "metadata": {},
   "source": [
    "la fonction chatbox"
   ]
  },
  {
   "cell_type": "code",
   "execution_count": 21,
   "id": "61913d4e-bd11-4073-9ab3-6ae5f881d527",
   "metadata": {},
   "outputs": [],
   "source": [
    "def chatbot(question):\n",
    "    most_relevant_sentence = get_most_relevant_sentence(question)\n",
    "    return most_relevant_sentence"
   ]
  },
  {
   "cell_type": "markdown",
   "id": "1e5907a2-f0e5-44dc-9b27-e1edd2c8dcb8",
   "metadata": {},
   "source": [
    "l' application streamlit"
   ]
  },
  {
   "cell_type": "code",
   "execution_count": 22,
   "id": "3454ccbe-b7c5-421c-8977-51a45a9a0413",
   "metadata": {},
   "outputs": [],
   "source": [
    "import streamlit as st"
   ]
  },
  {
   "cell_type": "code",
   "execution_count": 23,
   "id": "a9771475-e59c-4bf5-8b58-2026886d3185",
   "metadata": {},
   "outputs": [
    {
     "name": "stderr",
     "output_type": "stream",
     "text": [
      "2023-09-13 18:06:12.221 \n",
      "  \u001b[33m\u001b[1mWarning:\u001b[0m to view this Streamlit app on a browser, run it with the following\n",
      "  command:\n",
      "\n",
      "    streamlit run C:\\Users\\toshiba\\anaconda3\\lib\\site-packages\\ipykernel_launcher.py [ARGUMENTS]\n"
     ]
    }
   ],
   "source": [
    "def main():\n",
    "    st.title(\"Chatbot\")\n",
    "    st.write(\"Hello! I'm a chatbot. Ask me anything about the topic in the text file.\")\n",
    "    # Get the user's question\n",
    "    question = st.text_input(\"You:\")\n",
    "    # Create a button to submit the question\n",
    "    if st.button(\"Submit\"):\n",
    "        # Call the chatbot function with the question and display the response\n",
    "        response = chatbot(question)\n",
    "        st.write(\"Chatbot: \" + response)\n",
    "if __name__ == \"__main__\":\n",
    "    main()"
   ]
  },
  {
   "cell_type": "code",
   "execution_count": 25,
   "id": "f3f9792b-2d99-4133-9a38-a37fbfd8da30",
   "metadata": {},
   "outputs": [
    {
     "ename": "SyntaxError",
     "evalue": "invalid syntax (595227194.py, line 1)",
     "output_type": "error",
     "traceback": [
      "\u001b[1;36m  Cell \u001b[1;32mIn[25], line 1\u001b[1;36m\u001b[0m\n\u001b[1;33m    streamlit run\u001b[0m\n\u001b[1;37m              ^\u001b[0m\n\u001b[1;31mSyntaxError\u001b[0m\u001b[1;31m:\u001b[0m invalid syntax\n"
     ]
    }
   ],
   "source": [
    "streamlit run \n"
   ]
  },
  {
   "cell_type": "code",
   "execution_count": null,
   "id": "6ee627c4-544e-45fb-92e2-4f4ec34cf9f5",
   "metadata": {},
   "outputs": [],
   "source": []
  }
 ],
 "metadata": {
  "kernelspec": {
   "display_name": "Python 3 (ipykernel)",
   "language": "python",
   "name": "python3"
  },
  "language_info": {
   "codemirror_mode": {
    "name": "ipython",
    "version": 3
   },
   "file_extension": ".py",
   "mimetype": "text/x-python",
   "name": "python",
   "nbconvert_exporter": "python",
   "pygments_lexer": "ipython3",
   "version": "3.10.9"
  }
 },
 "nbformat": 4,
 "nbformat_minor": 5
}
